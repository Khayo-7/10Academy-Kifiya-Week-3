{
 "cells": [
  {
   "cell_type": "code",
   "execution_count": 1,
   "metadata": {},
   "outputs": [],
   "source": [
    "import os\n",
    "import sys\n",
    "sys.path.append('..')\n",
    "\n",
    "from scripts.utils.processing import *\n",
    "from scripts.data_utils.loaders import *\n",
    "from scripts.utils.visualizations import *\n",
    "from scripts.data_utils.feature_engineering import *\n",
    "\n",
    "%load_ext autoreload\n",
    "%autoreload 2"
   ]
  },
  {
   "cell_type": "code",
   "execution_count": 2,
   "metadata": {},
   "outputs": [
    {
     "name": "stderr",
     "output_type": "stream",
     "text": [
      "c:\\Users\\Darkles\\10academy\\10Academy-Kifiya-Week-3\\notebook\\..\\scripts\\data_utils\\loaders.py:8: DtypeWarning: Columns (4,32,37) have mixed types. Specify dtype option on import or set low_memory=False.\n",
      "  dataframe = pd.read_csv(file_path, sep=sep)\n"
     ]
    },
    {
     "name": "stdout",
     "output_type": "stream",
     "text": [
      "Data loaded successfully.\n"
     ]
    },
    {
     "data": {
      "text/plain": [
       "(1000098, 52)"
      ]
     },
     "execution_count": 2,
     "metadata": {},
     "output_type": "execute_result"
    }
   ],
   "source": [
    "file_path = r\"../data/AlphaCare_Risk_Insurance_data.csv\"\n",
    "cleaned_df = load_data(file_path)\n",
    "cleaned_df.shape"
   ]
  },
  {
   "cell_type": "code",
   "execution_count": 3,
   "metadata": {},
   "outputs": [
    {
     "data": {
      "text/html": [
       "<div>\n",
       "<style scoped>\n",
       "    .dataframe tbody tr th:only-of-type {\n",
       "        vertical-align: middle;\n",
       "    }\n",
       "\n",
       "    .dataframe tbody tr th {\n",
       "        vertical-align: top;\n",
       "    }\n",
       "\n",
       "    .dataframe thead th {\n",
       "        text-align: right;\n",
       "    }\n",
       "</style>\n",
       "<table border=\"1\" class=\"dataframe\">\n",
       "  <thead>\n",
       "    <tr style=\"text-align: right;\">\n",
       "      <th></th>\n",
       "      <th>UnderwrittenCoverID</th>\n",
       "      <th>PolicyID</th>\n",
       "      <th>TransactionMonth</th>\n",
       "      <th>IsVATRegistered</th>\n",
       "      <th>Citizenship</th>\n",
       "      <th>LegalType</th>\n",
       "      <th>Title</th>\n",
       "      <th>Language</th>\n",
       "      <th>Bank</th>\n",
       "      <th>AccountType</th>\n",
       "      <th>...</th>\n",
       "      <th>CoverType</th>\n",
       "      <th>CoverGroup</th>\n",
       "      <th>Section</th>\n",
       "      <th>Product</th>\n",
       "      <th>StatutoryClass</th>\n",
       "      <th>StatutoryRiskType</th>\n",
       "      <th>TotalPremium</th>\n",
       "      <th>TotalClaims</th>\n",
       "      <th>ProfitMargin</th>\n",
       "      <th>Risk</th>\n",
       "    </tr>\n",
       "  </thead>\n",
       "  <tbody>\n",
       "    <tr>\n",
       "      <th>0</th>\n",
       "      <td>145249</td>\n",
       "      <td>12827</td>\n",
       "      <td>2015-03-01</td>\n",
       "      <td>True</td>\n",
       "      <td>NaN</td>\n",
       "      <td>Close Corporation</td>\n",
       "      <td>Mr</td>\n",
       "      <td>English</td>\n",
       "      <td>First National Bank</td>\n",
       "      <td>Current account</td>\n",
       "      <td>...</td>\n",
       "      <td>Windscreen</td>\n",
       "      <td>Comprehensive - Taxi</td>\n",
       "      <td>Motor Comprehensive</td>\n",
       "      <td>Mobility Metered Taxis: Monthly</td>\n",
       "      <td>Commercial</td>\n",
       "      <td>IFRS Constant</td>\n",
       "      <td>21.929825</td>\n",
       "      <td>0.0</td>\n",
       "      <td>21.929825</td>\n",
       "      <td>0.0</td>\n",
       "    </tr>\n",
       "    <tr>\n",
       "      <th>1</th>\n",
       "      <td>145249</td>\n",
       "      <td>12827</td>\n",
       "      <td>2015-05-01</td>\n",
       "      <td>True</td>\n",
       "      <td>NaN</td>\n",
       "      <td>Close Corporation</td>\n",
       "      <td>Mr</td>\n",
       "      <td>English</td>\n",
       "      <td>First National Bank</td>\n",
       "      <td>Current account</td>\n",
       "      <td>...</td>\n",
       "      <td>Windscreen</td>\n",
       "      <td>Comprehensive - Taxi</td>\n",
       "      <td>Motor Comprehensive</td>\n",
       "      <td>Mobility Metered Taxis: Monthly</td>\n",
       "      <td>Commercial</td>\n",
       "      <td>IFRS Constant</td>\n",
       "      <td>21.929825</td>\n",
       "      <td>0.0</td>\n",
       "      <td>21.929825</td>\n",
       "      <td>0.0</td>\n",
       "    </tr>\n",
       "    <tr>\n",
       "      <th>3</th>\n",
       "      <td>145255</td>\n",
       "      <td>12827</td>\n",
       "      <td>2015-05-01</td>\n",
       "      <td>True</td>\n",
       "      <td>NaN</td>\n",
       "      <td>Close Corporation</td>\n",
       "      <td>Mr</td>\n",
       "      <td>English</td>\n",
       "      <td>First National Bank</td>\n",
       "      <td>Current account</td>\n",
       "      <td>...</td>\n",
       "      <td>Own Damage</td>\n",
       "      <td>Comprehensive - Taxi</td>\n",
       "      <td>Motor Comprehensive</td>\n",
       "      <td>Mobility Metered Taxis: Monthly</td>\n",
       "      <td>Commercial</td>\n",
       "      <td>IFRS Constant</td>\n",
       "      <td>512.848070</td>\n",
       "      <td>0.0</td>\n",
       "      <td>512.848070</td>\n",
       "      <td>0.0</td>\n",
       "    </tr>\n",
       "    <tr>\n",
       "      <th>5</th>\n",
       "      <td>145247</td>\n",
       "      <td>12827</td>\n",
       "      <td>2015-01-01</td>\n",
       "      <td>True</td>\n",
       "      <td>NaN</td>\n",
       "      <td>Close Corporation</td>\n",
       "      <td>Mr</td>\n",
       "      <td>English</td>\n",
       "      <td>First National Bank</td>\n",
       "      <td>Current account</td>\n",
       "      <td>...</td>\n",
       "      <td>Third Party</td>\n",
       "      <td>Comprehensive - Taxi</td>\n",
       "      <td>Motor Comprehensive</td>\n",
       "      <td>Mobility Metered Taxis: Monthly</td>\n",
       "      <td>Commercial</td>\n",
       "      <td>IFRS Constant</td>\n",
       "      <td>3.256435</td>\n",
       "      <td>0.0</td>\n",
       "      <td>3.256435</td>\n",
       "      <td>0.0</td>\n",
       "    </tr>\n",
       "    <tr>\n",
       "      <th>6</th>\n",
       "      <td>145247</td>\n",
       "      <td>12827</td>\n",
       "      <td>2015-04-01</td>\n",
       "      <td>True</td>\n",
       "      <td>NaN</td>\n",
       "      <td>Close Corporation</td>\n",
       "      <td>Mr</td>\n",
       "      <td>English</td>\n",
       "      <td>First National Bank</td>\n",
       "      <td>Current account</td>\n",
       "      <td>...</td>\n",
       "      <td>Third Party</td>\n",
       "      <td>Comprehensive - Taxi</td>\n",
       "      <td>Motor Comprehensive</td>\n",
       "      <td>Mobility Metered Taxis: Monthly</td>\n",
       "      <td>Commercial</td>\n",
       "      <td>IFRS Constant</td>\n",
       "      <td>50.474737</td>\n",
       "      <td>0.0</td>\n",
       "      <td>50.474737</td>\n",
       "      <td>0.0</td>\n",
       "    </tr>\n",
       "    <tr>\n",
       "      <th>...</th>\n",
       "      <td>...</td>\n",
       "      <td>...</td>\n",
       "      <td>...</td>\n",
       "      <td>...</td>\n",
       "      <td>...</td>\n",
       "      <td>...</td>\n",
       "      <td>...</td>\n",
       "      <td>...</td>\n",
       "      <td>...</td>\n",
       "      <td>...</td>\n",
       "      <td>...</td>\n",
       "      <td>...</td>\n",
       "      <td>...</td>\n",
       "      <td>...</td>\n",
       "      <td>...</td>\n",
       "      <td>...</td>\n",
       "      <td>...</td>\n",
       "      <td>...</td>\n",
       "      <td>...</td>\n",
       "      <td>...</td>\n",
       "      <td>...</td>\n",
       "    </tr>\n",
       "    <tr>\n",
       "      <th>1000093</th>\n",
       "      <td>31520</td>\n",
       "      <td>389</td>\n",
       "      <td>2015-04-01</td>\n",
       "      <td>False</td>\n",
       "      <td>ZW</td>\n",
       "      <td>Individual</td>\n",
       "      <td>Mr</td>\n",
       "      <td>English</td>\n",
       "      <td>ABSA Bank</td>\n",
       "      <td>Savings account</td>\n",
       "      <td>...</td>\n",
       "      <td>Third Party</td>\n",
       "      <td>Comprehensive - Taxi</td>\n",
       "      <td>Motor Comprehensive</td>\n",
       "      <td>Mobility Commercial Cover: Monthly</td>\n",
       "      <td>Commercial</td>\n",
       "      <td>IFRS Constant</td>\n",
       "      <td>347.235175</td>\n",
       "      <td>0.0</td>\n",
       "      <td>347.235175</td>\n",
       "      <td>0.0</td>\n",
       "    </tr>\n",
       "    <tr>\n",
       "      <th>1000094</th>\n",
       "      <td>31520</td>\n",
       "      <td>389</td>\n",
       "      <td>2015-06-01</td>\n",
       "      <td>False</td>\n",
       "      <td>ZW</td>\n",
       "      <td>Individual</td>\n",
       "      <td>Mr</td>\n",
       "      <td>English</td>\n",
       "      <td>ABSA Bank</td>\n",
       "      <td>Savings account</td>\n",
       "      <td>...</td>\n",
       "      <td>Third Party</td>\n",
       "      <td>Comprehensive - Taxi</td>\n",
       "      <td>Motor Comprehensive</td>\n",
       "      <td>Mobility Commercial Cover: Monthly</td>\n",
       "      <td>Commercial</td>\n",
       "      <td>IFRS Constant</td>\n",
       "      <td>347.235175</td>\n",
       "      <td>0.0</td>\n",
       "      <td>347.235175</td>\n",
       "      <td>0.0</td>\n",
       "    </tr>\n",
       "    <tr>\n",
       "      <th>1000095</th>\n",
       "      <td>31520</td>\n",
       "      <td>389</td>\n",
       "      <td>2015-08-01</td>\n",
       "      <td>False</td>\n",
       "      <td>ZW</td>\n",
       "      <td>Individual</td>\n",
       "      <td>Mr</td>\n",
       "      <td>English</td>\n",
       "      <td>ABSA Bank</td>\n",
       "      <td>Savings account</td>\n",
       "      <td>...</td>\n",
       "      <td>Third Party</td>\n",
       "      <td>Comprehensive - Taxi</td>\n",
       "      <td>Motor Comprehensive</td>\n",
       "      <td>Mobility Commercial Cover: Monthly</td>\n",
       "      <td>Commercial</td>\n",
       "      <td>IFRS Constant</td>\n",
       "      <td>347.235175</td>\n",
       "      <td>0.0</td>\n",
       "      <td>347.235175</td>\n",
       "      <td>0.0</td>\n",
       "    </tr>\n",
       "    <tr>\n",
       "      <th>1000096</th>\n",
       "      <td>31519</td>\n",
       "      <td>389</td>\n",
       "      <td>2014-07-01</td>\n",
       "      <td>False</td>\n",
       "      <td>ZW</td>\n",
       "      <td>Individual</td>\n",
       "      <td>Mr</td>\n",
       "      <td>English</td>\n",
       "      <td>ABSA Bank</td>\n",
       "      <td>Savings account</td>\n",
       "      <td>...</td>\n",
       "      <td>Passenger Liability</td>\n",
       "      <td>Comprehensive - Taxi</td>\n",
       "      <td>Motor Comprehensive</td>\n",
       "      <td>Mobility Commercial Cover: Monthly</td>\n",
       "      <td>Commercial</td>\n",
       "      <td>IFRS Constant</td>\n",
       "      <td>2.315000</td>\n",
       "      <td>0.0</td>\n",
       "      <td>2.315000</td>\n",
       "      <td>0.0</td>\n",
       "    </tr>\n",
       "    <tr>\n",
       "      <th>1000097</th>\n",
       "      <td>31519</td>\n",
       "      <td>389</td>\n",
       "      <td>2015-02-01</td>\n",
       "      <td>False</td>\n",
       "      <td>ZW</td>\n",
       "      <td>Individual</td>\n",
       "      <td>Mr</td>\n",
       "      <td>English</td>\n",
       "      <td>ABSA Bank</td>\n",
       "      <td>Savings account</td>\n",
       "      <td>...</td>\n",
       "      <td>Passenger Liability</td>\n",
       "      <td>Comprehensive - Taxi</td>\n",
       "      <td>Motor Comprehensive</td>\n",
       "      <td>Mobility Commercial Cover: Monthly</td>\n",
       "      <td>Commercial</td>\n",
       "      <td>IFRS Constant</td>\n",
       "      <td>2.315000</td>\n",
       "      <td>0.0</td>\n",
       "      <td>2.315000</td>\n",
       "      <td>0.0</td>\n",
       "    </tr>\n",
       "  </tbody>\n",
       "</table>\n",
       "<p>618464 rows × 54 columns</p>\n",
       "</div>"
      ],
      "text/plain": [
       "         UnderwrittenCoverID  PolicyID TransactionMonth  IsVATRegistered  \\\n",
       "0                     145249     12827       2015-03-01             True   \n",
       "1                     145249     12827       2015-05-01             True   \n",
       "3                     145255     12827       2015-05-01             True   \n",
       "5                     145247     12827       2015-01-01             True   \n",
       "6                     145247     12827       2015-04-01             True   \n",
       "...                      ...       ...              ...              ...   \n",
       "1000093                31520       389       2015-04-01            False   \n",
       "1000094                31520       389       2015-06-01            False   \n",
       "1000095                31520       389       2015-08-01            False   \n",
       "1000096                31519       389       2014-07-01            False   \n",
       "1000097                31519       389       2015-02-01            False   \n",
       "\n",
       "        Citizenship          LegalType Title Language                 Bank  \\\n",
       "0               NaN  Close Corporation    Mr  English  First National Bank   \n",
       "1               NaN  Close Corporation    Mr  English  First National Bank   \n",
       "3               NaN  Close Corporation    Mr  English  First National Bank   \n",
       "5               NaN  Close Corporation    Mr  English  First National Bank   \n",
       "6               NaN  Close Corporation    Mr  English  First National Bank   \n",
       "...             ...                ...   ...      ...                  ...   \n",
       "1000093          ZW         Individual    Mr  English            ABSA Bank   \n",
       "1000094          ZW         Individual    Mr  English            ABSA Bank   \n",
       "1000095          ZW         Individual    Mr  English            ABSA Bank   \n",
       "1000096          ZW         Individual    Mr  English            ABSA Bank   \n",
       "1000097          ZW         Individual    Mr  English            ABSA Bank   \n",
       "\n",
       "             AccountType  ...            CoverType            CoverGroup  \\\n",
       "0        Current account  ...           Windscreen  Comprehensive - Taxi   \n",
       "1        Current account  ...           Windscreen  Comprehensive - Taxi   \n",
       "3        Current account  ...           Own Damage  Comprehensive - Taxi   \n",
       "5        Current account  ...          Third Party  Comprehensive - Taxi   \n",
       "6        Current account  ...          Third Party  Comprehensive - Taxi   \n",
       "...                  ...  ...                  ...                   ...   \n",
       "1000093  Savings account  ...          Third Party  Comprehensive - Taxi   \n",
       "1000094  Savings account  ...          Third Party  Comprehensive - Taxi   \n",
       "1000095  Savings account  ...          Third Party  Comprehensive - Taxi   \n",
       "1000096  Savings account  ...  Passenger Liability  Comprehensive - Taxi   \n",
       "1000097  Savings account  ...  Passenger Liability  Comprehensive - Taxi   \n",
       "\n",
       "                     Section                             Product  \\\n",
       "0        Motor Comprehensive     Mobility Metered Taxis: Monthly   \n",
       "1        Motor Comprehensive     Mobility Metered Taxis: Monthly   \n",
       "3        Motor Comprehensive     Mobility Metered Taxis: Monthly   \n",
       "5        Motor Comprehensive     Mobility Metered Taxis: Monthly   \n",
       "6        Motor Comprehensive     Mobility Metered Taxis: Monthly   \n",
       "...                      ...                                 ...   \n",
       "1000093  Motor Comprehensive  Mobility Commercial Cover: Monthly   \n",
       "1000094  Motor Comprehensive  Mobility Commercial Cover: Monthly   \n",
       "1000095  Motor Comprehensive  Mobility Commercial Cover: Monthly   \n",
       "1000096  Motor Comprehensive  Mobility Commercial Cover: Monthly   \n",
       "1000097  Motor Comprehensive  Mobility Commercial Cover: Monthly   \n",
       "\n",
       "         StatutoryClass StatutoryRiskType TotalPremium TotalClaims  \\\n",
       "0            Commercial     IFRS Constant    21.929825         0.0   \n",
       "1            Commercial     IFRS Constant    21.929825         0.0   \n",
       "3            Commercial     IFRS Constant   512.848070         0.0   \n",
       "5            Commercial     IFRS Constant     3.256435         0.0   \n",
       "6            Commercial     IFRS Constant    50.474737         0.0   \n",
       "...                 ...               ...          ...         ...   \n",
       "1000093      Commercial     IFRS Constant   347.235175         0.0   \n",
       "1000094      Commercial     IFRS Constant   347.235175         0.0   \n",
       "1000095      Commercial     IFRS Constant   347.235175         0.0   \n",
       "1000096      Commercial     IFRS Constant     2.315000         0.0   \n",
       "1000097      Commercial     IFRS Constant     2.315000         0.0   \n",
       "\n",
       "         ProfitMargin Risk  \n",
       "0           21.929825  0.0  \n",
       "1           21.929825  0.0  \n",
       "3          512.848070  0.0  \n",
       "5            3.256435  0.0  \n",
       "6           50.474737  0.0  \n",
       "...               ...  ...  \n",
       "1000093    347.235175  0.0  \n",
       "1000094    347.235175  0.0  \n",
       "1000095    347.235175  0.0  \n",
       "1000096      2.315000  0.0  \n",
       "1000097      2.315000  0.0  \n",
       "\n",
       "[618464 rows x 54 columns]"
      ]
     },
     "execution_count": 3,
     "metadata": {},
     "output_type": "execute_result"
    }
   ],
   "source": [
    "# Add Risk and Profit Margin columns in the datafram\n",
    "processed_df = generate_risk_metrics(cleaned_df)\n",
    "df = processed_df\n",
    "df"
   ]
  },
  {
   "cell_type": "code",
   "execution_count": 4,
   "metadata": {},
   "outputs": [],
   "source": [
    "# dvc add data/AlphaCare_Risk_Insurance_data_Risk_ProfitMargin_processed.csv\n",
    "# git commit -am \"Update dataset with new features\"\n",
    "# dvc push\n",
    "# dvc diff\n",
    "\n",
    "output_path = r'../data/AlphaCare_Risk_Insurance_data_Risk_ProfitMargin_processed.csv'\n",
    "save_data(processed_df, output_path)"
   ]
  },
  {
   "cell_type": "code",
   "execution_count": 5,
   "metadata": {},
   "outputs": [
    {
     "data": {
      "text/plain": [
       "{'Gauteng': 0.42888927480749073,\n",
       " 'KwaZulu-Natal': 0.26474645146103315,\n",
       " 'Mpumalanga': 0.3926976895015563,\n",
       " 'Eastern Cape': 0.23558851652254742,\n",
       " 'Western Cape': 0.3417503129575668,\n",
       " 'Limpopo': 0.3487120371329607,\n",
       " 'North West': 0.28534843459632137,\n",
       " 'Free State': 0.10620929937799883,\n",
       " 'Northern Cape': 0.20383085693985306}"
      ]
     },
     "execution_count": 5,
     "metadata": {},
     "output_type": "execute_result"
    }
   ],
   "source": [
    "\n",
    "{province: compute_metric(df, \"Province\", province, \"Risk\") for province in df[\"Province\"].unique()}\n"
   ]
  },
  {
   "cell_type": "code",
   "execution_count": 6,
   "metadata": {},
   "outputs": [
    {
     "data": {
      "text/plain": [
       "{'Gauteng': -16.310013495537937,\n",
       " 'KwaZulu-Natal': -2.8291987124145663,\n",
       " 'Mpumalanga': 25.281857550947223,\n",
       " 'Eastern Cape': 40.298308551922055,\n",
       " 'Western Cape': -4.502239837304071,\n",
       " 'Limpopo': 30.28660812470893,\n",
       " 'North West': 21.12256851323422,\n",
       " 'Free State': 43.052653655165315,\n",
       " 'Northern Cape': 62.32982841118795}"
      ]
     },
     "execution_count": 6,
     "metadata": {},
     "output_type": "execute_result"
    }
   ],
   "source": [
    "{province: compute_metric(df, \"Province\", province, \"ProfitMargin\") for province in df[\"Province\"].unique()}"
   ]
  },
  {
   "cell_type": "code",
   "execution_count": 7,
   "metadata": {},
   "outputs": [
    {
     "data": {
      "text/plain": [
       "{'Gauteng': 116.19985948038912,\n",
       " 'KwaZulu-Natal': 120.61807185720362,\n",
       " 'Mpumalanga': 64.29562855754487,\n",
       " 'Eastern Cape': 68.347433829777,\n",
       " 'Western Cape': 105.835833522323,\n",
       " 'Limpopo': 55.07762639148261,\n",
       " 'North West': 62.29159176156182,\n",
       " 'Free State': 44.83730672770931,\n",
       " 'Northern Cape': 24.565058680189345}"
      ]
     },
     "execution_count": 7,
     "metadata": {},
     "output_type": "execute_result"
    }
   ],
   "source": [
    "{province: compute_metric(df, \"Province\", province, \"TotalClaims\") for province in df[\"Province\"].unique()}"
   ]
  },
  {
   "cell_type": "code",
   "execution_count": 8,
   "metadata": {},
   "outputs": [
    {
     "data": {
      "text/plain": [
       "{'Not specified': 0.3479044184892278,\n",
       " 'Male': 0.34885236062626185,\n",
       " 'Female': 0.4919788674989967,\n",
       " 'Notspecified': 0.502840465839676}"
      ]
     },
     "execution_count": 8,
     "metadata": {},
     "output_type": "execute_result"
    }
   ],
   "source": [
    "{gender: compute_metric(df, \"Gender\", gender, \"Risk\") for gender in df[\"Gender\"].unique()}"
   ]
  },
  {
   "cell_type": "code",
   "execution_count": 9,
   "metadata": {},
   "outputs": [
    {
     "data": {
      "text/plain": [
       "{'Not specified': -1.4779384400411064,\n",
       " 'Male': 17.45117170935069,\n",
       " 'Female': 16.804688523031988,\n",
       " 'Notspecified': 68.75006202681055}"
      ]
     },
     "execution_count": 9,
     "metadata": {},
     "output_type": "execute_result"
    }
   ],
   "source": [
    "{gender: compute_metric(df, \"Gender\", gender, \"ProfitMargin\") for gender in df[\"Gender\"].unique()}"
   ]
  },
  {
   "cell_type": "code",
   "execution_count": 10,
   "metadata": {},
   "outputs": [
    {
     "data": {
      "text/plain": [
       "{'Not specified': 101.63231148598003,\n",
       " 'Male': 64.31982789332058,\n",
       " 'Female': 72.64318242727857,\n",
       " 'Notspecified': 109.60681404875521}"
      ]
     },
     "execution_count": 10,
     "metadata": {},
     "output_type": "execute_result"
    }
   ],
   "source": [
    "{gender: compute_metric(df, \"Gender\", gender, \"TotalClaims\") for gender in df[\"Gender\"].unique()}"
   ]
  },
  {
   "cell_type": "markdown",
   "metadata": {},
   "source": [
    "1. Testing Risk Differences Across Provinces\n",
    "- Null Hypothesis: There are no risk differences across provinces\n",
    "- Alternative Hypothesis: There are significant differences in risk (claims)"
   ]
  },
  {
   "cell_type": "code",
   "execution_count": 11,
   "metadata": {},
   "outputs": [
    {
     "data": {
      "text/plain": [
       "array(['Gauteng', 'KwaZulu-Natal', 'Mpumalanga', 'Eastern Cape',\n",
       "       'Western Cape', 'Limpopo', 'North West', 'Free State',\n",
       "       'Northern Cape'], dtype=object)"
      ]
     },
     "execution_count": 11,
     "metadata": {},
     "output_type": "execute_result"
    }
   ],
   "source": [
    "df['Province'].unique()"
   ]
  },
  {
   "cell_type": "code",
   "execution_count": 12,
   "metadata": {},
   "outputs": [
    {
     "data": {
      "text/plain": [
       "{'stat': nan, 'p_value': nan, 'significant': False}"
      ]
     },
     "execution_count": 12,
     "metadata": {},
     "output_type": "execute_result"
    }
   ],
   "source": [
    "# A/B Testing: Risk Differences between Provinces Comparison\n",
    "province_group_a, province_group_b = segment_data(df, \"Province\", [\"Gauteng\"], [\"WesternCape\"])\n",
    "perform_t_test(province_group_a, province_group_b, \"Risk\")"
   ]
  },
  {
   "cell_type": "code",
   "execution_count": 13,
   "metadata": {},
   "outputs": [
    {
     "data": {
      "text/plain": [
       "{'stat': 4.988778295471582,\n",
       " 'p_value': 3.3310233679703755e-06,\n",
       " 'significant': True}"
      ]
     },
     "execution_count": 13,
     "metadata": {},
     "output_type": "execute_result"
    }
   ],
   "source": [
    "# Extract risk groups based on Province and perform ANOVA test across groups\n",
    "province_groups = [group[\"Risk\"].values for _, group in df.groupby(\"Province\")]\n",
    "\n",
    "# Risk Across Provinces with ANOVA\n",
    "perform_anova_test(*province_groups)"
   ]
  },
  {
   "cell_type": "markdown",
   "metadata": {},
   "source": [
    "2. Testing Risk Differences Between Zip Codes\n",
    "- Null Hypothesis: Risk (claims) is independent of zip codes\n",
    "- Alternative Hypothesis: There are differences in risk across zip codes"
   ]
  },
  {
   "cell_type": "code",
   "execution_count": 14,
   "metadata": {},
   "outputs": [
    {
     "data": {
      "text/plain": [
       "{'stat': 1152.8326065972738,\n",
       " 'p_value': 4.8003518557879056e-11,\n",
       " 'significant': True}"
      ]
     },
     "execution_count": 14,
     "metadata": {},
     "output_type": "execute_result"
    }
   ],
   "source": [
    "# A/B Testing: Risk Differences for Zip/Postal Codes (Categorical comparison)\n",
    "contingency_table = generate_contingency_table(df, \"PostalCode\", \"Risk\", 0.5)\n",
    "perform_chi2_test(contingency_table)"
   ]
  },
  {
   "cell_type": "code",
   "execution_count": 15,
   "metadata": {},
   "outputs": [
    {
     "data": {
      "text/plain": [
       "{'stat': 48.2725980220106,\n",
       " 'p_value': 2.2712616375971555e-07,\n",
       " 'significant': True}"
      ]
     },
     "execution_count": 15,
     "metadata": {},
     "output_type": "execute_result"
    }
   ],
   "source": [
    "# A/B Testing: Risk Differences for prominent Zip/Postal Codes (Categorical comparison)\n",
    "filtered_df = df[df[\"PostalCode\"].isin(df[\"PostalCode\"].value_counts().index[:10])]\n",
    "contingency_table = generate_contingency_table(filtered_df, \"PostalCode\", \"Risk\", 0.5)\n",
    "perform_chi2_test(contingency_table)"
   ]
  },
  {
   "cell_type": "markdown",
   "metadata": {},
   "source": [
    "3. Testing Margin Differences Between Zip Codes\n",
    "- Null Hypothesis: Margins do not vary between zip codes\n",
    "- Alternative Hypothesis: There are significant margin differences"
   ]
  },
  {
   "cell_type": "code",
   "execution_count": 16,
   "metadata": {},
   "outputs": [
    {
     "data": {
      "text/plain": [
       "(PostalCode\n",
       " 2000    90944\n",
       " 122     27898\n",
       " 299     16731\n",
       " Name: count, dtype: int64,\n",
       " PostalCode\n",
       " 7340    1\n",
       " 7456    1\n",
       " 6655    1\n",
       " Name: count, dtype: int64)"
      ]
     },
     "execution_count": 16,
     "metadata": {},
     "output_type": "execute_result"
    }
   ],
   "source": [
    "df['PostalCode'].value_counts()[:3], df['PostalCode'].value_counts()[-3:]"
   ]
  },
  {
   "cell_type": "code",
   "execution_count": 17,
   "metadata": {},
   "outputs": [
    {
     "data": {
      "text/plain": [
       "{'stat': 0.6421862817465027,\n",
       " 'p_value': 0.5207561363156676,\n",
       " 'significant': False}"
      ]
     },
     "execution_count": 17,
     "metadata": {},
     "output_type": "execute_result"
    }
   ],
   "source": [
    "# A/B Testing: t-test for Margin Differences between Postal/Zip Codes\n",
    "zipcode_group_a, zipcode_group_b = segment_data(df, \"PostalCode\", [2000], [122])\n",
    "perform_t_test(zipcode_group_a, zipcode_group_b, \"ProfitMargin\")"
   ]
  },
  {
   "cell_type": "code",
   "execution_count": 18,
   "metadata": {},
   "outputs": [
    {
     "data": {
      "text/plain": [
       "{'stat': 0.8397459167039115,\n",
       " 'p_value': 0.9997627033248128,\n",
       " 'significant': False}"
      ]
     },
     "execution_count": 18,
     "metadata": {},
     "output_type": "execute_result"
    }
   ],
   "source": [
    "# Extract profit margin groups based on PostalCode\n",
    "postal_code_groups = [group[\"ProfitMargin\"].values for _, group in df.groupby(\"PostalCode\")]\n",
    "\n",
    "# Perform ANOVA test for Margin Across Zip Codes\n",
    "perform_anova_test(*postal_code_groups)"
   ]
  },
  {
   "cell_type": "markdown",
   "metadata": {},
   "source": [
    "4. Testing Risk Differences Between Genders\n",
    "- Null Hypothesis: There are no differences in risk between males and females\n",
    "- Alternative Hypothesis: There are significant differences in risk between genders"
   ]
  },
  {
   "cell_type": "code",
   "execution_count": 19,
   "metadata": {},
   "outputs": [
    {
     "data": {
      "text/plain": [
       "{'stat': 32908460.0, 'p_value': 0.6350800943780405, 'significant': False}"
      ]
     },
     "execution_count": 19,
     "metadata": {},
     "output_type": "execute_result"
    }
   ],
   "source": [
    "# A/B Testing: Mann-Whitney U Test for Gender Comparison\n",
    "gender_group_a, gender_group_b = segment_data(df, \"Gender\", [\"Male\"], [\"Female\"])\n",
    "perform_mannwhitneyu_test(gender_group_a, gender_group_b, \"Risk\")"
   ]
  },
  {
   "cell_type": "code",
   "execution_count": 20,
   "metadata": {},
   "outputs": [
    {
     "data": {
      "text/plain": [
       "{'stat': -0.5985543131195025,\n",
       " 'p_value': 0.549506376964734,\n",
       " 'significant': False}"
      ]
     },
     "execution_count": 20,
     "metadata": {},
     "output_type": "execute_result"
    }
   ],
   "source": [
    "# Risk Differences (Gender)\n",
    "perform_t_test(gender_group_a, gender_group_b, \"Risk\")\n",
    "\n",
    "# Interpretation: A high p-value (0.5495) indicates that there is no statistically significant difference \n",
    "# in risk between men and women based on Risk. This means we fail to reject the null hypothesis.\n"
   ]
  },
  {
   "cell_type": "code",
   "execution_count": 21,
   "metadata": {},
   "outputs": [
    {
     "data": {
      "text/plain": [
       "{'stat': -0.5985543131195025,\n",
       " 'p_value': 0.549506376964734,\n",
       " 'significant': False}"
      ]
     },
     "execution_count": 21,
     "metadata": {},
     "output_type": "execute_result"
    }
   ],
   "source": [
    "# Margin Differences (Gender)\n",
    "perform_t_test(gender_group_a, gender_group_b, \"Risk\")"
   ]
  },
  {
   "cell_type": "code",
   "execution_count": 22,
   "metadata": {},
   "outputs": [
    {
     "data": {
      "text/plain": [
       "{'stat': 32908460.0, 'p_value': 0.6350800943780405, 'significant': False}"
      ]
     },
     "execution_count": 22,
     "metadata": {},
     "output_type": "execute_result"
    }
   ],
   "source": [
    "perform_mannwhitneyu_test(gender_group_a, gender_group_b, \"Risk\")\n"
   ]
  },
  {
   "cell_type": "code",
   "execution_count": 23,
   "metadata": {},
   "outputs": [
    {
     "data": {
      "text/plain": [
       "{'stat': 0.69256685263642, 'p_value': 0.556437617329897, 'significant': False}"
      ]
     },
     "execution_count": 23,
     "metadata": {},
     "output_type": "execute_result"
    }
   ],
   "source": [
    "# Extract risk groups based on Gender and perform ANOVA test across groups\n",
    "gender_groups = [group[\"Risk\"].values for _, group in df.groupby(\"Gender\")]\n",
    "\n",
    "# Risk Across Genders with ANOVA\n",
    "perform_anova_test(*gender_groups)"
   ]
  },
  {
   "cell_type": "code",
   "execution_count": 24,
   "metadata": {},
   "outputs": [
    {
     "data": {
      "text/plain": [
       "{'stat': 1.1328135567042752,\n",
       " 'p_value': 0.3341757425243139,\n",
       " 'significant': False}"
      ]
     },
     "execution_count": 24,
     "metadata": {},
     "output_type": "execute_result"
    }
   ],
   "source": [
    "# Extract profit margin groups based on Gender\n",
    "gender_groups = [group[\"ProfitMargin\"].values for _, group in df.groupby(\"Gender\")]\n",
    "\n",
    "# Perform ANOVA test for Margin Across Genders\n",
    "perform_anova_test(*gender_groups)"
   ]
  },
  {
   "cell_type": "code",
   "execution_count": 25,
   "metadata": {},
   "outputs": [
    {
     "data": {
      "image/png": "[encoded data removed]",
      "text/plain": [
       "<Figure size 640x480 with 1 Axes>"
      ]
     },
     "metadata": {},
     "output_type": "display_data"
    }
   ],
   "source": [
    "plot_boxplot(data=df, x_column=\"Province\", y_column=\"Risk\", title=\"Risk Distribution Across Provinces\")"
   ]
  },
  {
   "cell_type": "code",
   "execution_count": 26,
   "metadata": {},
   "outputs": [
    {
     "data": {
      "image/png": "[encoded data removed]",
      "text/plain": [
       "<Figure size 640x480 with 1 Axes>"
      ]
     },
     "metadata": {},
     "output_type": "display_data"
    }
   ],
   "source": [
    "plot_boxplot(data=df, x_column=\"Province\", y_column=\"ProfitMargin\", title=\"Profit Margin Distribution Across Provinces\")"
   ]
  },
  {
   "cell_type": "code",
   "execution_count": 27,
   "metadata": {},
   "outputs": [
    {
     "data": {
      "image/png": "[encoded data removed]",
      "text/plain": [
       "<Figure size 640x480 with 1 Axes>"
      ]
     },
     "metadata": {},
     "output_type": "display_data"
    }
   ],
   "source": [
    "plot_boxplot(data=df, x_column=\"Gender\", y_column=\"Risk\", title=\"Risk Distribution Across Genders\")"
   ]
  }
 ],
 "metadata": {
  "kernelspec": {
   "display_name": "Python 3",
   "language": "python",
   "name": "python3"
  },
  "language_info": {
   "codemirror_mode": {
    "name": "ipython",
    "version": 3
   },
   "file_extension": ".py",
   "mimetype": "text/x-python",
   "name": "python",
   "nbconvert_exporter": "python",
   "pygments_lexer": "ipython3",
   "version": "3.12.1"
  }
 },
 "nbformat": 4,
 "nbformat_minor": 2
}
