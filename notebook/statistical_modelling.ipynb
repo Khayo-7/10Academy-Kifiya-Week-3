{
 "cells": [
  {
   "cell_type": "code",
   "execution_count": 1,
   "metadata": {},
   "outputs": [],
   "source": [
    "import os\n",
    "import sys\n",
    "sys.path.append('..')\n",
    "\n",
    "from scripts.modeling.evaluation import *\n",
    "from scripts.modeling.model_selection import *\n",
    "from scripts.data_utils.loaders import load_data, save_data\n",
    "from scripts.data_utils.cleaning import convert_date_column\n",
    "from scripts.modeling.preprocessing import split_data, preprocess_data, scale_features, time_series_split_data\n",
    "from scripts.data_utils.feature_engineering import generate_risk_metrics, generate_features, generate_lag_and_rolling_features, apply_cyclical_encoding\n",
    "\n",
    "%load_ext autoreload\n",
    "%autoreload 2"
   ]
  },
  {
   "cell_type": "code",
   "execution_count": 4,
   "metadata": {},
   "outputs": [
    {
     "name": "stderr",
     "output_type": "stream",
     "text": [
      "c:\\Users\\Darkles\\10academy\\10Academy-Kifiya-Week-3\\notebook\\..\\scripts\\data_utils\\loaders.py:8: DtypeWarning: Columns (4,32,37) have mixed types. Specify dtype option on import or set low_memory=False.\n",
      "  dataframe = pd.read_csv(file_path, sep=sep)\n"
     ]
    },
    {
     "name": "stdout",
     "output_type": "stream",
     "text": [
      "Data loaded successfully.\n"
     ]
    },
    {
     "data": {
      "text/plain": [
       "(618464, 54)"
      ]
     },
     "execution_count": 4,
     "metadata": {},
     "output_type": "execute_result"
    }
   ],
   "source": [
    "# file_path = r\"../data/AlphaCare_Risk_Insurance_data_Risk_ProfitMargin_processed.csv\"\n",
    "# processed_df = load_data(file_path)\n",
    "# df = processed_df\n",
    "# df.shape"
   ]
  },
  {
   "cell_type": "code",
   "execution_count": 6,
   "metadata": {},
   "outputs": [
    {
     "data": {
      "text/plain": [
       "(618464, 814)"
      ]
     },
     "execution_count": 6,
     "metadata": {},
     "output_type": "execute_result"
    }
   ],
   "source": [
    "# # Apply preprocessing\n",
    "# df_preprocessed = preprocess_data(df)\n",
    "# temp_df = df\n",
    "# df = df_preprocessed\n",
    "# df.shape"
   ]
  },
  {
   "cell_type": "code",
   "execution_count": 7,
   "metadata": {},
   "outputs": [],
   "source": [
    "# # dvc add data/AlphaCare_Risk_Insurance_data_All_processed.csv\n",
    "# # git commit -am \"Update dataset with new features\"\n",
    "# # dvc push \n",
    "# # dvc diff\n",
    "\n",
    "# output_path = r'../data/AlphaCare_Risk_Insurance_data_All_processed.csv'\n",
    "# save_data(df, output_path)"
   ]
  },
  {
   "cell_type": "code",
   "execution_count": null,
   "metadata": {},
   "outputs": [],
   "source": [
    "file_path = r\"../data/AlphaCare_Risk_Insurance_data_All_processed.csv\"\n",
    "processed_df = convert_date_column(load_data(file_path))\n",
    "df = processed_df\n",
    "df.shape"
   ]
  },
  {
   "cell_type": "code",
   "execution_count": 5,
   "metadata": {},
   "outputs": [],
   "source": [
    "# Split data into training and testing sets\n",
    "\n",
    "# target_variable = 'ProfitMargin'\n",
    "# target_variable = 'Risk'\n",
    "# drop_columns = ['TotalClaims', 'TotalPremium'] # For  Risk and ProfitMargin\n",
    "\n",
    "# target_variable = 'TotalPremium'\n",
    "target_variable = 'TotalClaims'\n",
    "drop_columns = ['Risk', 'ProfitMargin'] # For  TotalClaims and TotalPremium\n",
    "\n",
    "df_feed = df.drop(columns=drop_columns, axis=1)\n",
    "X_train, X_test, y_train, y_test = split_data(df_feed, target_variable=target_variable)"
   ]
  },
  {
   "cell_type": "code",
   "execution_count": 6,
   "metadata": {},
   "outputs": [],
   "source": [
    "X_train_scaled, X_test_scaled = scale_features(X_train, X_test)"
   ]
  },
  {
   "cell_type": "code",
   "execution_count": 7,
   "metadata": {},
   "outputs": [],
   "source": [
    "# Model training\n",
    "lr_model = train_linear_regression(X_train_scaled, y_train)"
   ]
  },
  {
   "cell_type": "code",
   "execution_count": 8,
   "metadata": {},
   "outputs": [
    {
     "name": "stderr",
     "output_type": "stream",
     "text": [
      "\n",
      "KeyboardInterrupt\n",
      "\n"
     ]
    }
   ],
   "source": [
    "rf_model = train_random_forest(X_train, y_train)"
   ]
  },
  {
   "cell_type": "code",
   "execution_count": 11,
   "metadata": {},
   "outputs": [],
   "source": [
    "xgb_model = train_xgboost(X_train, y_train)"
   ]
  },
  {
   "cell_type": "code",
   "execution_count": 12,
   "metadata": {},
   "outputs": [
    {
     "data": {
      "text/plain": [
       "{'MAE': 273.6487034122871,\n",
       " 'MSE': 10629794.866077451,\n",
       " 'R2': 0.0031327201501716306,\n",
       " 'Median AE': 81.70083665408556,\n",
       " 'Explained Variance': 0.0031376162662362095}"
      ]
     },
     "execution_count": 12,
     "metadata": {},
     "output_type": "execute_result"
    }
   ],
   "source": [
    "evaluate_model(lr_model, X_test_scaled, y_test)"
   ]
  },
  {
   "cell_type": "code",
   "execution_count": 13,
   "metadata": {},
   "outputs": [
    {
     "name": "stderr",
     "output_type": "stream",
     "text": [
      "c:\\Users\\Darkles\\AppData\\Local\\Programs\\Python\\Python312\\Lib\\site-packages\\sklearn\\utils\\validation.py:2732: UserWarning: X has feature names, but LinearRegression was fitted without feature names\n",
      "  warnings.warn(\n"
     ]
    },
    {
     "data": {
      "text/plain": [
       "{'MAE': 99200445.34021671,\n",
       " 'MSE': 1.0398503887495936e+16,\n",
       " 'R2': -975176699.5322386,\n",
       " 'Median AE': 108485145.3154335,\n",
       " 'Explained Variance': -52388563.82583472}"
      ]
     },
     "execution_count": 13,
     "metadata": {},
     "output_type": "execute_result"
    }
   ],
   "source": [
    "evaluate_model(lr_model, X_test, y_test)"
   ]
  },
  {
   "cell_type": "code",
   "execution_count": 14,
   "metadata": {},
   "outputs": [
    {
     "ename": "NameError",
     "evalue": "name 'rf_model' is not defined",
     "output_type": "error",
     "traceback": [
      "\u001b[1;31m---------------------------------------------------------------------------\u001b[0m",
      "\u001b[1;31mNameError\u001b[0m                                 Traceback (most recent call last)",
      "Cell \u001b[1;32mIn[14], line 1\u001b[0m\n\u001b[1;32m----> 1\u001b[0m evaluate_model(\u001b[43mrf_model\u001b[49m, X_test, y_test)\n",
      "\u001b[1;31mNameError\u001b[0m: name 'rf_model' is not defined"
     ]
    }
   ],
   "source": [
    "evaluate_model(rf_model, X_test, y_test)"
   ]
  },
  {
   "cell_type": "code",
   "execution_count": null,
   "metadata": {},
   "outputs": [],
   "source": [
    "# Model evaluation\n",
    "models = {\"Linear Regression\": lr_model, \"Random Forest\": rf_model, \"XGBoost\": xgb_model}\n",
    "\n",
    "for name, model in models.items():\n",
    "    print(f\"Evaluating {name}:\")\n",
    "    print(evaluate_model(model, X_test, y_test))\n",
    "    print(evaluate_model(model, X_test_scaled if name == \"Linear Regression\" else X_test, y_test))"
   ]
  },
  {
   "cell_type": "code",
   "execution_count": 15,
   "metadata": {},
   "outputs": [],
   "source": [
    "feature_names = X_train.columns"
   ]
  },
  {
   "cell_type": "code",
   "execution_count": null,
   "metadata": {},
   "outputs": [],
   "source": [
    "model = xgb_model\n",
    "# model = rf_model\n",
    "feature_importance(model, feature_names)"
   ]
  },
  {
   "cell_type": "code",
   "execution_count": null,
   "metadata": {},
   "outputs": [],
   "source": [
    "feature_importance_shap(model, X_train, feature_names=None)"
   ]
  },
  {
   "cell_type": "code",
   "execution_count": null,
   "metadata": {},
   "outputs": [],
   "source": [
    "# Feature importance analysis using SHAP for Random Forest\n",
    "feature_importance_shap_tree(rf_model, X_train, feature_names=feature_names)"
   ]
  },
  {
   "cell_type": "code",
   "execution_count": null,
   "metadata": {},
   "outputs": [],
   "source": [
    "feature_importance_lime(model, X_train, feature_names, sample_idx=0)"
   ]
  },
  {
   "cell_type": "code",
   "execution_count": null,
   "metadata": {},
   "outputs": [],
   "source": [
    "# Hyperparameter tuning\n",
    "param_grid = {\n",
    "    'n_estimators': [50, 100, 200],\n",
    "    'max_depth': [None, 10, 20],\n",
    "    'min_samples_split': [2, 5, 10],\n",
    "    'random_state': [42]\n",
    "}\n",
    "tuned_rf_model, best_params = hyperparameter_tuning(RandomForestRegressor(), param_grid, X_train, y_train)\n",
    "\n",
    "evaluate_model(tuned_rf_model, X_test, y_test)"
   ]
  },
  {
   "cell_type": "code",
   "execution_count": null,
   "metadata": {},
   "outputs": [],
   "source": [
    "evaluate_model(rf_model, X_test, y_test)"
   ]
  },
  {
   "cell_type": "markdown",
   "metadata": {},
   "source": [
    "# Time-series data"
   ]
  },
  {
   "cell_type": "code",
   "execution_count": null,
   "metadata": {},
   "outputs": [],
   "source": [
    "df = apply_cyclical_encoding(df)"
   ]
  },
  {
   "cell_type": "code",
   "execution_count": null,
   "metadata": {},
   "outputs": [],
   "source": [
    "processed_data = generate_lag_and_rolling_features(df, date_column=\"TransactionMonth\", target_column=\"TotalClaims\")"
   ]
  },
  {
   "cell_type": "code",
   "execution_count": null,
   "metadata": {},
   "outputs": [],
   "source": [
    "X_train, X_test, y_train, y_test = time_series_split_data(processed_data, \"TransactionMonth\", \"TotalClaims\", \"2015-07-01\")"
   ]
  }
 ],
 "metadata": {
  "kernelspec": {
   "display_name": "Python 3",
   "language": "python",
   "name": "python3"
  },
  "language_info": {
   "codemirror_mode": {
    "name": "ipython",
    "version": 3
   },
   "file_extension": ".py",
   "mimetype": "text/x-python",
   "name": "python",
   "nbconvert_exporter": "python",
   "pygments_lexer": "ipython3",
   "version": "3.12.1"
  }
 },
 "nbformat": 4,
 "nbformat_minor": 2
}
